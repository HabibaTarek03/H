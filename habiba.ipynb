{
 "cells": [
  {
   "cell_type": "markdown",
   "id": "336d3091",
   "metadata": {},
   "source": [
    "# Data Science Tools and Examples"
   ]
  },
  {
   "cell_type": "markdown",
   "id": "69081bea",
   "metadata": {},
   "source": [
    "This notebook provides an overview of essential Data Science tools, languages, libraries, and examples of basic operations. It also demonstrates how to perform simple arithmetic and data manipulation tasks using Python.\n"
   ]
  },
  {
   "cell_type": "markdown",
   "id": "2b6f07b9",
   "metadata": {},
   "source": [
    "- Python  \n",
    "- R  \n",
    "- SQL  \n",
    "- Java  \n",
    "- Julia  \n",
    "- Scala  \n",
    "- C++  \n"
   ]
  },
  {
   "cell_type": "markdown",
   "id": "91248fcc",
   "metadata": {},
   "source": [
    "- NumPy  \n",
    "- Pandas  \n",
    "- Matplotlib  \n",
    "- Seaborn  \n",
    "- Scikit-learn  \n",
    "- TensorFlow  \n",
    "- PyTorch  \n"
   ]
  },
  {
   "cell_type": "markdown",
   "id": "fba124aa",
   "metadata": {},
   "source": [
    "| Tool             | Description                                |\n",
    "|------------------|--------------------------------------------|\n",
    "| Jupyter Notebook | Interactive coding environment             |\n",
    "| Apache Spark     | Cluster computing framework                |\n",
    "| TensorFlow       | Machine learning library                   |\n",
    "| Power BI         | Business intelligence visualization tool   |\n",
    "| RStudio          | Integrated development environment for R   |\n"
   ]
  },
  {
   "cell_type": "markdown",
   "id": "3dbfca35",
   "metadata": {},
   "source": [
    "This section demonstrates simple arithmetic operations, including addition, multiplication, and conversions.\n"
   ]
  },
  {
   "cell_type": "code",
   "execution_count": 1,
   "id": "d6f7011a",
   "metadata": {},
   "outputs": [
    {
     "name": "stdout",
     "output_type": "stream",
     "text": [
      "Result: 30\n"
     ]
    }
   ],
   "source": [
    "# Example code for multiplication and addition\n",
    "result = (5 * 4) + 10\n",
    "print(\"Result:\", result)\n"
   ]
  },
  {
   "cell_type": "code",
   "execution_count": 2,
   "id": "b42ad26d",
   "metadata": {},
   "outputs": [
    {
     "name": "stdout",
     "output_type": "stream",
     "text": [
      "120 minutes is equal to 2.0 hours.\n"
     ]
    }
   ],
   "source": [
    "# Convert minutes to hours\n",
    "minutes = 120\n",
    "hours = minutes / 60\n",
    "print(f\"{minutes} minutes is equal to {hours} hours.\")\n"
   ]
  },
  {
   "cell_type": "markdown",
   "id": "6c84bece",
   "metadata": {},
   "source": [
    "- Understand key Data Science tools and languages.  \n",
    "- Learn about essential libraries used in Data Science.  \n",
    "- Perform basic arithmetic operations using Python.  \n",
    "- Convert units using simple Python code.  \n"
   ]
  },
  {
   "cell_type": "markdown",
   "id": "9546612a",
   "metadata": {},
   "source": [
    "**Author:** [Habiba Tarek]  \n"
   ]
  },
  {
   "cell_type": "code",
   "execution_count": null,
   "id": "19943202",
   "metadata": {},
   "outputs": [],
   "source": []
  }
 ],
 "metadata": {
  "kernelspec": {
   "display_name": "Python 3 (ipykernel)",
   "language": "python",
   "name": "python3"
  },
  "language_info": {
   "codemirror_mode": {
    "name": "ipython",
    "version": 3
   },
   "file_extension": ".py",
   "mimetype": "text/x-python",
   "name": "python",
   "nbconvert_exporter": "python",
   "pygments_lexer": "ipython3",
   "version": "3.9.12"
  }
 },
 "nbformat": 4,
 "nbformat_minor": 5
}
